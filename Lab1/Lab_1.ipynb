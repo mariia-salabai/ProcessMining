{
 "cells": [
  {
   "cell_type": "markdown",
   "metadata": {},
   "source": [
    "# Lab 1 - Python introduction\n"
   ]
  },
  {
   "cell_type": "markdown",
   "metadata": {},
   "source": [
    "### Exercise 0 - Example\n",
    "Assign the number 31 to a new variable, q. Write an expression that raises q to the 4th power "
   ]
  },
  {
   "cell_type": "code",
   "execution_count": 1,
   "metadata": {},
   "outputs": [
    {
     "data": {
      "text/plain": [
       "923521"
      ]
     },
     "execution_count": 1,
     "metadata": {},
     "output_type": "execute_result"
    }
   ],
   "source": [
    "# Your answer here\n",
    "q = 31\n",
    "q**4"
   ]
  },
  {
   "cell_type": "markdown",
   "metadata": {},
   "source": [
    "### Exercise 1\n",
    "Create arbitrary list, tuple and dictionary and print them"
   ]
  },
  {
   "cell_type": "code",
   "execution_count": 9,
   "metadata": {},
   "outputs": [
    {
     "name": "stdout",
     "output_type": "stream",
     "text": [
      "[1, 'a', 2, 3, 'b']\n",
      "(1, 2, 'a', 3)\n",
      "{'a': 'aa', 'b': 'bb', 'c': 12}\n"
     ]
    }
   ],
   "source": [
    "# Answer\n",
    "\n",
    "x = [1, 'a', 2, 3, 'b']\n",
    "type (x)\n",
    "print (x)\n",
    "\n",
    "y = (1, 2, 'a', 3)\n",
    "type (y)\n",
    "print (y)\n",
    "\n",
    "z = {\n",
    "  \"a\": \"aa\",\n",
    "  \"b\": \"bb\",\n",
    "  \"c\": 12\n",
    "    } \n",
    "print (z)"
   ]
  },
  {
   "cell_type": "markdown",
   "metadata": {},
   "source": [
    "### Exercise 2\n",
    "Print the next elements of array s: 10th, from 10 to 20, all elements more than 0 "
   ]
  },
  {
   "cell_type": "code",
   "execution_count": 69,
   "metadata": {},
   "outputs": [],
   "source": [
    "import numpy as np\n",
    "s = np.random.normal(0,1,100)\n",
    "\n",
    "# Your answer here\n",
    "x = ['10th', ]"
   ]
  },
  {
   "cell_type": "markdown",
   "metadata": {},
   "source": [
    "### Exercise 3\n",
    "Make a function `pow` that raised base `number` to a fixed power `power`. If `power >= 50` print message \"power is too big\" and return `-1`"
   ]
  },
  {
   "cell_type": "code",
   "execution_count": 70,
   "metadata": {},
   "outputs": [],
   "source": [
    "# Your answer here\n"
   ]
  },
  {
   "cell_type": "markdown",
   "metadata": {},
   "source": [
    "### Exercise 4\n",
    "Make a function `above(x,n)` which returns all elements `x > n`. By default `x = 10`. Use numpy arrays"
   ]
  },
  {
   "cell_type": "code",
   "execution_count": 71,
   "metadata": {},
   "outputs": [],
   "source": [
    "import numpy as np\n",
    "# Your answer here\n"
   ]
  },
  {
   "cell_type": "markdown",
   "metadata": {},
   "source": [
    "### Exercise 5\n",
    "Write a function `my_ifelse(x, exp, n)` which test array `x` with expression `exp` to number `n`. For instance, `my_ifelse(x,'>=',10)` returns all elements of array `x` which greater or equal 10. `exp` can be `<`, `>`, `<=`, `>=`, `==`. If `exp` dont match these expression array `x` is retured"
   ]
  },
  {
   "cell_type": "code",
   "execution_count": 72,
   "metadata": {},
   "outputs": [],
   "source": [
    "import numpy as np\n",
    "# Your answer here\n"
   ]
  },
  {
   "cell_type": "markdown",
   "metadata": {},
   "source": [
    "### Exercise 6\n",
    "Make a function called `counter` that takes a string input_string and returns a dictionary of letter counts."
   ]
  },
  {
   "cell_type": "code",
   "execution_count": 73,
   "metadata": {},
   "outputs": [],
   "source": [
    "# Your answer here\n"
   ]
  },
  {
   "cell_type": "markdown",
   "metadata": {},
   "source": [
    "### Exercise 7\n",
    "From the function `counter` make function `counter_sorted` with second boolean argumens `reverse` that returns sorted letter counts. Order depends of the `reverse` argument. By default `reverse = False`"
   ]
  },
  {
   "cell_type": "code",
   "execution_count": 74,
   "metadata": {},
   "outputs": [],
   "source": [
    "# Your answer here\n"
   ]
  }
 ],
 "metadata": {
  "interpreter": {
   "hash": "1b49387b6a9ed20ff9c7384b993e35400f7336c5bd0ee9d03c9a92731e5b43e4"
  },
  "kernelspec": {
   "display_name": "Python 3.6.8 32-bit",
   "language": "python",
   "name": "python3"
  },
  "language_info": {
   "codemirror_mode": {
    "name": "ipython",
    "version": 3
   },
   "file_extension": ".py",
   "mimetype": "text/x-python",
   "name": "python",
   "nbconvert_exporter": "python",
   "pygments_lexer": "ipython3",
   "version": "3.6.8"
  },
  "orig_nbformat": 2
 },
 "nbformat": 4,
 "nbformat_minor": 2
}
