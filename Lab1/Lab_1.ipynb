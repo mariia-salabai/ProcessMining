{
 "cells": [
  {
   "cell_type": "markdown",
   "metadata": {},
   "source": [
    "# Lab 1 - Python introduction\n"
   ]
  },
  {
   "cell_type": "markdown",
   "metadata": {},
   "source": [
    "### Exercise 0 - Example\n",
    "Assign the number 31 to a new variable, q. Write an expression that raises q to the 4th power "
   ]
  },
  {
   "cell_type": "code",
   "execution_count": 1,
   "metadata": {},
   "outputs": [
    {
     "data": {
      "text/plain": [
       "923521"
      ]
     },
     "execution_count": 1,
     "metadata": {},
     "output_type": "execute_result"
    }
   ],
   "source": [
    "# Your answer here\n",
    "q = 31\n",
    "q**4"
   ]
  },
  {
   "cell_type": "markdown",
   "metadata": {},
   "source": [
    "### Exercise 1\n",
    "Create arbitrary list, tuple and dictionary and print them"
   ]
  },
  {
   "cell_type": "code",
   "execution_count": 81,
   "metadata": {},
   "outputs": [
    {
     "name": "stdout",
     "output_type": "stream",
     "text": [
      "list:\n",
      "[1, 'a', 2, 3, 'b']\n",
      "tuple:\n",
      "(1, 2, 'a', 3)\n",
      "dictionary:\n",
      "{'a': 'aa', 'b': 'bb', 'c': 12}\n"
     ]
    }
   ],
   "source": [
    "# Answer\n",
    "\n",
    "# list:\n",
    "print ('list:')\n",
    "x = [1, 'a', 2, 3, 'b']\n",
    "type (x)\n",
    "print (x)\n",
    "\n",
    "# tuple:\n",
    "print ('tuple:')\n",
    "y = (1, 2, 'a', 3)\n",
    "type (y)\n",
    "print (y)\n",
    "\n",
    "# dictionary\n",
    "print ('dictionary:')\n",
    "z = {\n",
    "  \"a\": \"aa\",\n",
    "  \"b\": \"bb\",\n",
    "  \"c\": 12\n",
    "    } \n",
    "print (z)"
   ]
  },
  {
   "cell_type": "markdown",
   "metadata": {},
   "source": [
    "### Exercise 2\n",
    "Print the next elements of array s: 10th, from 10 to 20, all elements more than 0 "
   ]
  },
  {
   "cell_type": "code",
   "execution_count": 82,
   "metadata": {},
   "outputs": [
    {
     "name": "stdout",
     "output_type": "stream",
     "text": [
      "array\n",
      "[-2.46317978 -0.14448335  0.496691    0.53894747  0.37497202 -1.31619773\n",
      "  0.04320871  1.18235906 -0.77805654 -0.22416934 -0.05715499 -0.31406759\n",
      " -1.18419908 -0.42800664 -1.6123541   0.47773779  1.11855628  0.21952021\n",
      " -1.70082144  0.91808496  0.15862528  0.8404626  -0.58161497  0.22325228\n",
      " -0.69099167]\n",
      "10th:\n",
      "-0.22416934321430532\n",
      "from 10 to 20:\n",
      "[-0.22416934 -0.05715499 -0.31406759 -1.18419908 -0.42800664 -1.6123541\n",
      "  0.47773779  1.11855628  0.21952021 -1.70082144]\n",
      "all elements more than 0:\n",
      "0.49669100047995435\n",
      "0.5389474705802323\n",
      "0.3749720244728359\n",
      "0.043208706927981164\n",
      "1.1823590574713145\n",
      "0.4777377925918508\n",
      "1.1185562816093404\n",
      "0.21952020889686125\n",
      "0.9180849622127235\n",
      "0.15862528317940502\n",
      "0.8404625965554341\n",
      "0.22325227977482517\n"
     ]
    }
   ],
   "source": [
    "import numpy as np\n",
    "s = np.random.normal(0,1,25)\n",
    "print ('array')\n",
    "print (s)\n",
    "print ('10th:')\n",
    "print (s[9])\n",
    "\n",
    "print ('from 10 to 20:')\n",
    "print (s[9:19])\n",
    "\n",
    "print('all elements more than 0:')\n",
    "for i in range (0,len(s)):\n",
    "    if (s[i]>0):\n",
    "        print(s[i])"
   ]
  },
  {
   "cell_type": "markdown",
   "metadata": {},
   "source": [
    "### Exercise 3\n",
    "Make a function `pow` that raised base `number` to a fixed power `power`. If `power >= 50` print message \"power is too big\" and return `-1`"
   ]
  },
  {
   "cell_type": "code",
   "execution_count": 86,
   "metadata": {},
   "outputs": [
    {
     "data": {
      "text/plain": [
       "-1"
      ]
     },
     "execution_count": 86,
     "metadata": {},
     "output_type": "execute_result"
    }
   ],
   "source": [
    "def base_number (x, y):\n",
    "    if pow(x, y) >=50:\n",
    "        return (-1)\n",
    "    else:\n",
    "        return pow(x, y)\n",
    "\n",
    "\n",
    "base_number(10, 2) # you can replace '10' to other number and check results"
   ]
  },
  {
   "cell_type": "markdown",
   "metadata": {},
   "source": [
    "### Exercise 4\n",
    "Make a function `above(x,n)` which returns all elements `x > n`. By default `x = 10`. Use numpy arrays"
   ]
  },
  {
   "cell_type": "code",
   "execution_count": 85,
   "metadata": {},
   "outputs": [
    {
     "name": "stdout",
     "output_type": "stream",
     "text": [
      "array:\n",
      "[ -69.18820086 -121.57109851   63.48242121  -37.87950837  -91.39716763\n",
      "   25.49499558   33.19545337    5.50662137 -167.17068961   36.20513808]\n",
      "elements >10:\n",
      "63.482421210178416\n",
      "25.494995580039376\n",
      "33.19545337231746\n",
      "36.2051380837846\n"
     ]
    }
   ],
   "source": [
    "import numpy as np\n",
    "s = np.random.normal(0,100,10)\n",
    "print ('array:')\n",
    "print (s)\n",
    "\n",
    "print ('elements >10:')\n",
    "def above (x):\n",
    "    for n in range (0, len(s)):\n",
    "        if (s[n]>x):\n",
    "             print (s[n])\n",
    "\n",
    "above (10)"
   ]
  },
  {
   "cell_type": "code",
   "execution_count": 68,
   "metadata": {},
   "outputs": [
    {
     "name": "stdout",
     "output_type": "stream",
     "text": [
      "array:\n",
      "[-104.99844702  -26.9975634   218.89553221   44.22353776   -9.13136516\n",
      "    2.86998388  -74.27632537  -12.57559216  -66.44252129  -89.23397213]\n",
      "ellements >10:\n",
      "218.8955322149499\n",
      "44.22353775683081\n"
     ]
    }
   ],
   "source": [
    "import numpy as np\n",
    "s = np.random.normal(0,100,10)\n",
    "print ('array:')\n",
    "print (s)\n",
    "\n",
    "print('ellements >10:')\n",
    "for i in range (0,len(s)):\n",
    "    if (s[i]>10):\n",
    "        print(s[i])\n"
   ]
  },
  {
   "cell_type": "markdown",
   "metadata": {},
   "source": [
    "### Exercise 5\n",
    "Write a function `my_ifelse(x, exp, n)` which test array `x` with expression `exp` to number `n`. For instance, `my_ifelse(x,'>=',10)` returns all elements of array `x` which greater or equal 10. `exp` can be `<`, `>`, `<=`, `>=`, `==`. If `exp` dont match these expression array `x` is retured"
   ]
  },
  {
   "cell_type": "code",
   "execution_count": 153,
   "metadata": {},
   "outputs": [
    {
     "name": "stdout",
     "output_type": "stream",
     "text": [
      "Array:\n",
      "[ -76.64530129   50.98525023  -31.75578329 -100.6557215    21.02315032\n",
      " -209.54585759  -18.18890891  -88.4639473   -13.60570381   96.44626382]\n",
      "Result:\n"
     ]
    },
    {
     "ename": "TypeError",
     "evalue": "'int' object is not subscriptable",
     "output_type": "error",
     "traceback": [
      "\u001b[1;31m---------------------------------------------------------------------------\u001b[0m",
      "\u001b[1;31mTypeError\u001b[0m                                 Traceback (most recent call last)",
      "\u001b[1;32m~\\AppData\\Local\\Temp/ipykernel_9472/3088014300.py\u001b[0m in \u001b[0;36m<module>\u001b[1;34m\u001b[0m\n\u001b[0;32m     15\u001b[0m         \u001b[1;32melse\u001b[0m\u001b[1;33m:\u001b[0m \u001b[1;32mreturn\u001b[0m \u001b[0mx\u001b[0m\u001b[1;33m\u001b[0m\u001b[1;33m\u001b[0m\u001b[0m\n\u001b[0;32m     16\u001b[0m \u001b[1;33m\u001b[0m\u001b[0m\n\u001b[1;32m---> 17\u001b[1;33m \u001b[0mmy_ifelse\u001b[0m \u001b[1;33m(\u001b[0m\u001b[0mx\u001b[0m\u001b[1;33m,\u001b[0m \u001b[1;34m'<'\u001b[0m\u001b[1;33m,\u001b[0m \u001b[1;36m10\u001b[0m\u001b[1;33m)\u001b[0m\u001b[1;33m\u001b[0m\u001b[1;33m\u001b[0m\u001b[0m\n\u001b[0m",
      "\u001b[1;32m~\\AppData\\Local\\Temp/ipykernel_9472/3088014300.py\u001b[0m in \u001b[0;36mmy_ifelse\u001b[1;34m(x, exp, n)\u001b[0m\n\u001b[0;32m      8\u001b[0m     \u001b[1;32mdef\u001b[0m \u001b[0mmy_ifelse\u001b[0m \u001b[1;33m(\u001b[0m\u001b[0mx\u001b[0m\u001b[1;33m,\u001b[0m \u001b[0mexp\u001b[0m\u001b[1;33m,\u001b[0m \u001b[0mn\u001b[0m\u001b[1;33m)\u001b[0m\u001b[1;33m:\u001b[0m\u001b[1;33m\u001b[0m\u001b[1;33m\u001b[0m\u001b[0m\n\u001b[0;32m      9\u001b[0m         \u001b[1;32mif\u001b[0m \u001b[0mexp\u001b[0m \u001b[1;33m==\u001b[0m \u001b[1;34m'<'\u001b[0m\u001b[1;33m:\u001b[0m\u001b[1;33m\u001b[0m\u001b[1;33m\u001b[0m\u001b[0m\n\u001b[1;32m---> 10\u001b[1;33m             \u001b[1;32mreturn\u001b[0m \u001b[0mx\u001b[0m\u001b[1;33m[\u001b[0m\u001b[0mx\u001b[0m\u001b[1;33m<\u001b[0m\u001b[0mn\u001b[0m\u001b[1;33m]\u001b[0m\u001b[1;33m\u001b[0m\u001b[1;33m\u001b[0m\u001b[0m\n\u001b[0m\u001b[0;32m     11\u001b[0m         \u001b[1;32mif\u001b[0m \u001b[0mexp\u001b[0m \u001b[1;33m==\u001b[0m \u001b[1;34m'<'\u001b[0m\u001b[1;33m:\u001b[0m\u001b[1;33m\u001b[0m\u001b[1;33m\u001b[0m\u001b[0m\n\u001b[0;32m     12\u001b[0m             \u001b[1;32mreturn\u001b[0m \u001b[0mx\u001b[0m\u001b[1;33m[\u001b[0m\u001b[0mi\u001b[0m\u001b[1;33m>\u001b[0m\u001b[0mn\u001b[0m\u001b[1;33m]\u001b[0m\u001b[1;33m\u001b[0m\u001b[1;33m\u001b[0m\u001b[0m\n",
      "\u001b[1;31mTypeError\u001b[0m: 'int' object is not subscriptable"
     ]
    }
   ],
   "source": [
    "import numpy as np\n",
    "x = np.random.normal(0,100,10)\n",
    "print ('Array:')\n",
    "print (x)\n",
    "\n",
    "print ('Result:')\n",
    "for x in range (0,len(x)):\n",
    "    def my_ifelse (x, exp, n):\n",
    "        if exp == '<':\n",
    "            return x[x<n]\n",
    "        if exp == '<':\n",
    "            return x[i>n]\n",
    "        if exp == '<=':\n",
    "            return x[i<=n] \n",
    "        else: return x\n",
    "\n",
    "my_ifelse (x, '<', 10)"
   ]
  },
  {
   "cell_type": "code",
   "execution_count": 141,
   "metadata": {},
   "outputs": [
    {
     "name": "stdout",
     "output_type": "stream",
     "text": [
      "array:\n",
      "[  72.44739737 -196.08558675 -146.03868746  -11.67769502   35.56876523\n",
      "  -69.90804728  -32.3931109    94.72220161 -152.96870641  -40.71776067]\n",
      "Result:\n"
     ]
    }
   ],
   "source": [
    "import numpy as np\n",
    "x = np.random.normal(0,100,10)\n",
    "print ('array:')\n",
    "print (x)\n",
    "\n",
    "print ('Result:')\n",
    "def my_ifelse (x, exp, n):\n",
    "    for x in range (0, len(x)):\n",
    "        if exp == '<':\n",
    "            print (x[x<n])\n",
    "        if exp == '<':\n",
    "            print (x[i>n])\n",
    "        if exp == '>=':\n",
    "            print (x[i>n])    \n",
    "        else: print (x[x])\n",
    "        "
   ]
  },
  {
   "cell_type": "markdown",
   "metadata": {},
   "source": [
    "### Exercise 6\n",
    "Make a function called `counter` that takes a string input_string and returns a dictionary of letter counts."
   ]
  },
  {
   "cell_type": "code",
   "execution_count": 136,
   "metadata": {},
   "outputs": [
    {
     "name": "stdout",
     "output_type": "stream",
     "text": [
      "String: this is a test sentense\n",
      "dictionary:\n",
      "{'t': 4, 'h': 1, 'i': 2, 's': 5, ' ': 4, 'a': 1, 'e': 4, 'n': 2}\n"
     ]
    }
   ],
   "source": [
    "def counter (input_string):\n",
    "    count_letters = {}\n",
    "    for letter in input_string:\n",
    "        if letter in count_letters:\n",
    "                count_letters[letter] += 1\n",
    "        else:\n",
    "            count_letters[letter] = 1\n",
    "    return count_letters\n",
    "\n",
    "print ('String:'+' this is a test sentense')\n",
    "print ('dictionary:')\n",
    "print(counter('this is a test sentense'))"
   ]
  },
  {
   "cell_type": "markdown",
   "metadata": {},
   "source": [
    "### Exercise 7\n",
    "From the function `counter` make function `counter_sorted` with second boolean argumens `reverse` that returns sorted letter counts. Order depends of the `reverse` argument. By default `reverse = False`"
   ]
  },
  {
   "cell_type": "code",
   "execution_count": 139,
   "metadata": {},
   "outputs": [
    {
     "name": "stdout",
     "output_type": "stream",
     "text": [
      "dictionary:\n",
      "{'t': 4, 'h': 1, 'i': 2, 's': 5, ' ': 4, 'a': 1, 'e': 4, 'n': 2}\n",
      "Sorted result:\n",
      "h 1\n",
      "a 1\n",
      "i 2\n",
      "n 2\n",
      "t 4\n",
      "  4\n",
      "e 4\n",
      "s 5\n"
     ]
    }
   ],
   "source": [
    "count_letters = {'t': 4, 'h': 1, 'i': 2, 's': 5, ' ': 4, 'a': 1, 'e': 4, 'n': 2}\n",
    "print ('dictionary:')\n",
    "print (count_letters)\n",
    "\n",
    "print ('Sorted result:')\n",
    "counter_sorted = sorted(count_letters.items(), key=lambda x: x[1], reverse=False)\n",
    "for letter in counter_sorted:\n",
    "\tprint(letter[0], letter[1])"
   ]
  }
 ],
 "metadata": {
  "interpreter": {
   "hash": "f512de18de48ca65484e70e2951aae86fc45294903647ca7aefe5f0f58f5dbc2"
  },
  "kernelspec": {
   "display_name": "Python 3.9.7 ('base')",
   "language": "python",
   "name": "python3"
  },
  "language_info": {
   "codemirror_mode": {
    "name": "ipython",
    "version": 3
   },
   "file_extension": ".py",
   "mimetype": "text/x-python",
   "name": "python",
   "nbconvert_exporter": "python",
   "pygments_lexer": "ipython3",
   "version": "3.9.7"
  },
  "orig_nbformat": 2
 },
 "nbformat": 4,
 "nbformat_minor": 2
}
