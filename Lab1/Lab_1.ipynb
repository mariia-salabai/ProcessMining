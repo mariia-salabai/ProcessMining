{
 "cells": [
  {
   "cell_type": "markdown",
   "metadata": {},
   "source": [
    "# Lab 1 - Python introduction\n"
   ]
  },
  {
   "cell_type": "markdown",
   "metadata": {},
   "source": [
    "### Exercise 0 - Example\n",
    "Assign the number 31 to a new variable, q. Write an expression that raises q to the 4th power "
   ]
  },
  {
   "cell_type": "code",
   "execution_count": 1,
   "metadata": {},
   "outputs": [
    {
     "data": {
      "text/plain": [
       "923521"
      ]
     },
     "execution_count": 1,
     "metadata": {},
     "output_type": "execute_result"
    }
   ],
   "source": [
    "# Your answer here\n",
    "q = 31\n",
    "q**4"
   ]
  },
  {
   "cell_type": "markdown",
   "metadata": {},
   "source": [
    "### Exercise 1\n",
    "Create arbitrary list, tuple and dictionary and print them"
   ]
  },
  {
   "cell_type": "code",
   "execution_count": 39,
   "metadata": {},
   "outputs": [
    {
     "name": "stdout",
     "output_type": "stream",
     "text": [
      "list:\n",
      "[1, 'a', 2, 3, 'b']\n",
      "tuple:\n",
      "(1, 2, 'a', 3)\n",
      "dictionary:\n",
      "{'a': 'aa', 'b': 'bb', 'c': 12}\n"
     ]
    }
   ],
   "source": [
    "# Answer\n",
    "\n",
    "# list:\n",
    "print ('list:')\n",
    "x = [1, 'a', 2, 3, 'b']\n",
    "type (x)\n",
    "print (x)\n",
    "\n",
    "# tuple:\n",
    "print ('tuple:')\n",
    "y = (1, 2, 'a', 3)\n",
    "type (y)\n",
    "print (y)\n",
    "\n",
    "# dictionary\n",
    "print ('dictionary:')\n",
    "z = {\n",
    "  \"a\": \"aa\",\n",
    "  \"b\": \"bb\",\n",
    "  \"c\": 12\n",
    "    } \n",
    "print (z)"
   ]
  },
  {
   "cell_type": "markdown",
   "metadata": {},
   "source": [
    "### Exercise 2\n",
    "Print the next elements of array s: 10th, from 10 to 20, all elements more than 0 "
   ]
  },
  {
   "cell_type": "code",
   "execution_count": 38,
   "metadata": {},
   "outputs": [
    {
     "name": "stdout",
     "output_type": "stream",
     "text": [
      "array\n",
      "[ 1.16685223 -1.36225255 -0.36114848  0.34045591  0.62209317  0.90688166\n",
      " -0.41216336  0.36279778 -2.07330082 -1.25645773  0.72547979  0.28197331\n",
      "  1.0769501  -0.89800624  1.2057444   0.21343603 -0.32005827 -2.22631933\n",
      "  0.881163   -0.40838694  0.37522649 -2.37424992 -0.70613266  0.62428842\n",
      " -0.01158822]\n",
      "10th:\n",
      "-1.2564577325199735\n",
      "from 10 to 20:\n",
      "[-1.25645773  0.72547979  0.28197331  1.0769501  -0.89800624  1.2057444\n",
      "  0.21343603 -0.32005827 -2.22631933  0.881163  ]\n",
      "all elements more than 0:\n",
      "1.1668522263861658\n",
      "0.34045590586095476\n",
      "0.6220931712115716\n",
      "0.9068816575749398\n",
      "0.3627977765412522\n",
      "0.7254797873310457\n",
      "0.2819733119714799\n",
      "1.0769501013061833\n",
      "1.2057443971974375\n",
      "0.21343603456197832\n",
      "0.8811630009232966\n",
      "0.3752264875476826\n",
      "0.6242884243405583\n"
     ]
    }
   ],
   "source": [
    "# Answer\n",
    "\n",
    "import numpy as np\n",
    "s = np.random.normal(0,1,25)\n",
    "print ('array')\n",
    "print (s)\n",
    "print ('10th:')\n",
    "print (s[9])\n",
    "\n",
    "print ('from 10 to 20:')\n",
    "print (s[9:19])\n",
    "\n",
    "print('all elements more than 0:')\n",
    "for i in range (0,len(s)):\n",
    "    if (s[i]>0):\n",
    "        print(s[i])"
   ]
  },
  {
   "cell_type": "markdown",
   "metadata": {},
   "source": [
    "### Exercise 3\n",
    "Make a function `pow` that raised base `number` to a fixed power `power`. If `power >= 50` print message \"power is too big\" and return `-1`"
   ]
  },
  {
   "cell_type": "code",
   "execution_count": 37,
   "metadata": {},
   "outputs": [
    {
     "data": {
      "text/plain": [
       "4"
      ]
     },
     "execution_count": 37,
     "metadata": {},
     "output_type": "execute_result"
    }
   ],
   "source": [
    "# Answer\n",
    "\n",
    "def base_number (x, y):\n",
    "    if pow(x, y) >=50:\n",
    "        return (-1)\n",
    "    else:\n",
    "        return pow(x, y)\n",
    "\n",
    "\n",
    "base_number(10, 2) # you can replace '10' to other number and check results"
   ]
  },
  {
   "cell_type": "markdown",
   "metadata": {},
   "source": [
    "### Exercise 4\n",
    "Make a function `above(x,n)` which returns all elements `x > n`. By default `x = 10`. Use numpy arrays"
   ]
  },
  {
   "cell_type": "code",
   "execution_count": 35,
   "metadata": {},
   "outputs": [
    {
     "name": "stdout",
     "output_type": "stream",
     "text": [
      "array:\n",
      "[  24.69428998  -24.796026   -214.80185514  -93.22547558  -11.56822494\n",
      " -120.26088727   24.43315462 -104.44179695   24.7710576   -83.82416087]\n",
      "elements >10:\n",
      "24.694289978124143\n",
      "24.433154623969095\n",
      "24.771057597127268\n"
     ]
    }
   ],
   "source": [
    "# Answer\n",
    "\n",
    "import numpy as np\n",
    "s = np.random.normal(0,100,10)\n",
    "print ('array:')\n",
    "print (s)\n",
    "\n",
    "print ('elements >10:')\n",
    "def above (x):\n",
    "    for n in range (0, len(s)):\n",
    "        if (s[n]>x):\n",
    "             print (s[n])\n",
    "\n",
    "above (10)"
   ]
  },
  {
   "cell_type": "code",
   "execution_count": 34,
   "metadata": {},
   "outputs": [
    {
     "name": "stdout",
     "output_type": "stream",
     "text": [
      "array:\n",
      "[  33.34091966  -33.21029824  -13.10979092 -191.7812761   -19.45720164\n",
      "   -2.406477    104.98871225   68.37977713 -132.41287148  -23.14729803]\n",
      "ellements >10:\n",
      "33.3409196610703\n",
      "104.98871224742258\n",
      "68.37977713472914\n"
     ]
    }
   ],
   "source": [
    "# Answer\n",
    "\n",
    "import numpy as np\n",
    "s = np.random.normal(0,100,10)\n",
    "print ('array:')\n",
    "print (s)\n",
    "\n",
    "print('ellements >10:')\n",
    "for i in range (0,len(s)):\n",
    "    if (s[i]>10):\n",
    "        print(s[i])\n"
   ]
  },
  {
   "cell_type": "markdown",
   "metadata": {},
   "source": [
    "### Exercise 5\n",
    "Write a function `my_ifelse(x, exp, n)` which test array `x` with expression `exp` to number `n`. For instance, `my_ifelse(x,'>=',10)` returns all elements of array `x` which greater or equal 10. `exp` can be `<`, `>`, `<=`, `>=`, `==`. If `exp` dont match these expression array `x` is retured"
   ]
  },
  {
   "cell_type": "code",
   "execution_count": 33,
   "metadata": {},
   "outputs": [
    {
     "name": "stdout",
     "output_type": "stream",
     "text": [
      "Array:\n",
      "[  10.57569944   84.59234005  -59.38147264  -42.44734122  102.37933193\n",
      "  -76.20363462  -26.08536127 -118.21855935  -95.86039325   94.72398462]\n",
      "Result:\n",
      "[ -59.38147264  -42.44734122  -76.20363462  -26.08536127 -118.21855935\n",
      "  -95.86039325]\n",
      "[  10.57569944   84.59234005  -59.38147264  -42.44734122  102.37933193\n",
      "  -76.20363462  -26.08536127 -118.21855935  -95.86039325   94.72398462]\n"
     ]
    }
   ],
   "source": [
    "# Answer\n",
    "\n",
    "import numpy as np\n",
    "x = np.random.normal(0,100,10)\n",
    "print ('Array:')\n",
    "print (x)\n",
    "\n",
    "print ('Result:')\n",
    "def my_ifelse (x, exp, n):\n",
    "    if exp == '<':\n",
    "        print (x[x<n])\n",
    "    if exp == '<=':\n",
    "        print (x[x<=n]) \n",
    "    if exp == '>':\n",
    "        print (x[x>n])\n",
    "    if exp == '>=':\n",
    "        print (x[x>=n])\n",
    "    if exp == '==':\n",
    "        print (x[x==n])\n",
    "    else: print (x)\n",
    "my_ifelse (x, '<', 10)\n",
    "        "
   ]
  },
  {
   "cell_type": "markdown",
   "metadata": {},
   "source": [
    "### Exercise 6\n",
    "Make a function called `counter` that takes a string input_string and returns a dictionary of letter counts."
   ]
  },
  {
   "cell_type": "code",
   "execution_count": 32,
   "metadata": {},
   "outputs": [
    {
     "name": "stdout",
     "output_type": "stream",
     "text": [
      "String: this is a test sentense\n",
      "dictionary:\n",
      "{'t': 4, 'h': 1, 'i': 2, 's': 5, ' ': 4, 'a': 1, 'e': 4, 'n': 2}\n"
     ]
    }
   ],
   "source": [
    "# Answer\n",
    "\n",
    "def counter (input_string):\n",
    "    count_letters = {}\n",
    "    for letter in input_string:\n",
    "        if letter in count_letters:\n",
    "                count_letters[letter] += 1\n",
    "        else:\n",
    "            count_letters[letter] = 1\n",
    "    return count_letters\n",
    "\n",
    "print ('String:'+' this is a test sentense')\n",
    "print ('dictionary:')\n",
    "print(counter('this is a test sentense'))"
   ]
  },
  {
   "cell_type": "markdown",
   "metadata": {},
   "source": [
    "### Exercise 7\n",
    "From the function `counter` make function `counter_sorted` with second boolean argumens `reverse` that returns sorted letter counts. Order depends of the `reverse` argument. By default `reverse = False`"
   ]
  },
  {
   "cell_type": "code",
   "execution_count": 31,
   "metadata": {},
   "outputs": [
    {
     "name": "stdout",
     "output_type": "stream",
     "text": [
      "dictionary:\n",
      "{'t': 4, 'h': 1, 'i': 2, 's': 5, ' ': 4, 'a': 1, 'e': 4, 'n': 2}\n",
      "Sorted result:\n",
      "h 1\n",
      "a 1\n",
      "i 2\n",
      "n 2\n",
      "t 4\n",
      "  4\n",
      "e 4\n",
      "s 5\n"
     ]
    }
   ],
   "source": [
    "# Answer\n",
    "\n",
    "count_letters = {'t': 4, 'h': 1, 'i': 2, 's': 5, ' ': 4, 'a': 1, 'e': 4, 'n': 2}\n",
    "print ('dictionary:')\n",
    "print (count_letters)\n",
    "\n",
    "print ('Sorted result:')\n",
    "counter_sorted = sorted(count_letters.items(), key=lambda x: x[1], reverse=False)\n",
    "for letter in counter_sorted:\n",
    "\tprint(letter[0], letter[1])"
   ]
  }
 ],
 "metadata": {
  "interpreter": {
   "hash": "f512de18de48ca65484e70e2951aae86fc45294903647ca7aefe5f0f58f5dbc2"
  },
  "kernelspec": {
   "display_name": "Python 3.9.7 ('base')",
   "language": "python",
   "name": "python3"
  },
  "language_info": {
   "codemirror_mode": {
    "name": "ipython",
    "version": 3
   },
   "file_extension": ".py",
   "mimetype": "text/x-python",
   "name": "python",
   "nbconvert_exporter": "python",
   "pygments_lexer": "ipython3",
   "version": "3.9.7"
  },
  "orig_nbformat": 2
 },
 "nbformat": 4,
 "nbformat_minor": 2
}
