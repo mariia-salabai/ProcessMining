{
 "cells": [
  {
   "cell_type": "markdown",
   "metadata": {},
   "source": [
    "---\n",
    "\n",
    "_This notebook is based on materials from Coursera course [Introduction to data science with python](https://www.coursera.org/learn/python-data-analysis/)._\n",
    "\n",
    "---"
   ]
  },
  {
   "cell_type": "markdown",
   "metadata": {},
   "source": [
    "# Lab 2 - Pandas Introduction\n",
    "All questions are weighted the same in this assignment.\n",
    "## Part 1\n",
    "The following code loads the olympics dataset (olympics.csv), which was derrived from the Wikipedia entry on [All Time Olympic Games Medals](https://en.wikipedia.org/wiki/All-time_Olympic_Games_medal_table), and does some basic data cleaning. \n",
    "\n",
    "The columns are organized as # of Summer games, Summer medals, # of Winter games, Winter medals, total # number of games, total # of medals. Use this dataset to answer the questions below."
   ]
  },
  {
   "cell_type": "code",
   "execution_count": 37,
   "metadata": {
    "nbgrader": {
     "grade": false,
     "grade_id": "1",
     "locked": false,
     "solution": false
    }
   },
   "outputs": [
    {
     "data": {
      "text/html": [
       "<div>\n",
       "<style scoped>\n",
       "    .dataframe tbody tr th:only-of-type {\n",
       "        vertical-align: middle;\n",
       "    }\n",
       "\n",
       "    .dataframe tbody tr th {\n",
       "        vertical-align: top;\n",
       "    }\n",
       "\n",
       "    .dataframe thead th {\n",
       "        text-align: right;\n",
       "    }\n",
       "</style>\n",
       "<table border=\"1\" class=\"dataframe\">\n",
       "  <thead>\n",
       "    <tr style=\"text-align: right;\">\n",
       "      <th></th>\n",
       "      <th># Summer</th>\n",
       "      <th>Gold</th>\n",
       "      <th>Silver</th>\n",
       "      <th>Bronze</th>\n",
       "      <th>Total</th>\n",
       "      <th># Winter</th>\n",
       "      <th>Gold.1</th>\n",
       "      <th>Silver.1</th>\n",
       "      <th>Bronze.1</th>\n",
       "      <th>Total.1</th>\n",
       "      <th># Games</th>\n",
       "      <th>Gold.2</th>\n",
       "      <th>Silver.2</th>\n",
       "      <th>Bronze.2</th>\n",
       "      <th>Combined total</th>\n",
       "      <th>ID</th>\n",
       "    </tr>\n",
       "  </thead>\n",
       "  <tbody>\n",
       "    <tr>\n",
       "      <th>Afghanistan</th>\n",
       "      <td>13</td>\n",
       "      <td>0</td>\n",
       "      <td>0</td>\n",
       "      <td>2</td>\n",
       "      <td>2</td>\n",
       "      <td>0</td>\n",
       "      <td>0</td>\n",
       "      <td>0</td>\n",
       "      <td>0</td>\n",
       "      <td>0</td>\n",
       "      <td>13</td>\n",
       "      <td>0</td>\n",
       "      <td>0</td>\n",
       "      <td>2</td>\n",
       "      <td>2</td>\n",
       "      <td>AFG</td>\n",
       "    </tr>\n",
       "    <tr>\n",
       "      <th>Algeria</th>\n",
       "      <td>12</td>\n",
       "      <td>5</td>\n",
       "      <td>2</td>\n",
       "      <td>8</td>\n",
       "      <td>15</td>\n",
       "      <td>3</td>\n",
       "      <td>0</td>\n",
       "      <td>0</td>\n",
       "      <td>0</td>\n",
       "      <td>0</td>\n",
       "      <td>15</td>\n",
       "      <td>5</td>\n",
       "      <td>2</td>\n",
       "      <td>8</td>\n",
       "      <td>15</td>\n",
       "      <td>ALG</td>\n",
       "    </tr>\n",
       "    <tr>\n",
       "      <th>Argentina</th>\n",
       "      <td>23</td>\n",
       "      <td>18</td>\n",
       "      <td>24</td>\n",
       "      <td>28</td>\n",
       "      <td>70</td>\n",
       "      <td>18</td>\n",
       "      <td>0</td>\n",
       "      <td>0</td>\n",
       "      <td>0</td>\n",
       "      <td>0</td>\n",
       "      <td>41</td>\n",
       "      <td>18</td>\n",
       "      <td>24</td>\n",
       "      <td>28</td>\n",
       "      <td>70</td>\n",
       "      <td>ARG</td>\n",
       "    </tr>\n",
       "    <tr>\n",
       "      <th>Armenia</th>\n",
       "      <td>5</td>\n",
       "      <td>1</td>\n",
       "      <td>2</td>\n",
       "      <td>9</td>\n",
       "      <td>12</td>\n",
       "      <td>6</td>\n",
       "      <td>0</td>\n",
       "      <td>0</td>\n",
       "      <td>0</td>\n",
       "      <td>0</td>\n",
       "      <td>11</td>\n",
       "      <td>1</td>\n",
       "      <td>2</td>\n",
       "      <td>9</td>\n",
       "      <td>12</td>\n",
       "      <td>ARM</td>\n",
       "    </tr>\n",
       "    <tr>\n",
       "      <th>Australasia</th>\n",
       "      <td>2</td>\n",
       "      <td>3</td>\n",
       "      <td>4</td>\n",
       "      <td>5</td>\n",
       "      <td>12</td>\n",
       "      <td>0</td>\n",
       "      <td>0</td>\n",
       "      <td>0</td>\n",
       "      <td>0</td>\n",
       "      <td>0</td>\n",
       "      <td>2</td>\n",
       "      <td>3</td>\n",
       "      <td>4</td>\n",
       "      <td>5</td>\n",
       "      <td>12</td>\n",
       "      <td>ANZ</td>\n",
       "    </tr>\n",
       "  </tbody>\n",
       "</table>\n",
       "</div>"
      ],
      "text/plain": [
       "             # Summer  Gold  Silver  Bronze  Total  # Winter  Gold.1  \\\n",
       "Afghanistan        13     0       0       2      2         0       0   \n",
       "Algeria            12     5       2       8     15         3       0   \n",
       "Argentina          23    18      24      28     70        18       0   \n",
       "Armenia             5     1       2       9     12         6       0   \n",
       "Australasia         2     3       4       5     12         0       0   \n",
       "\n",
       "             Silver.1  Bronze.1  Total.1  # Games  Gold.2  Silver.2  Bronze.2  \\\n",
       "Afghanistan         0         0        0       13       0         0         2   \n",
       "Algeria             0         0        0       15       5         2         8   \n",
       "Argentina           0         0        0       41      18        24        28   \n",
       "Armenia             0         0        0       11       1         2         9   \n",
       "Australasia         0         0        0        2       3         4         5   \n",
       "\n",
       "             Combined total   ID  \n",
       "Afghanistan               2  AFG  \n",
       "Algeria                  15  ALG  \n",
       "Argentina                70  ARG  \n",
       "Armenia                  12  ARM  \n",
       "Australasia              12  ANZ  "
      ]
     },
     "execution_count": 37,
     "metadata": {},
     "output_type": "execute_result"
    }
   ],
   "source": [
    "import pandas as pd\n",
    "\n",
    "df = pd.read_csv('D:/projects_git/DS_KNU/data/olympics.csv', index_col=0, skiprows=1)\n",
    "\n",
    "for colume in df.columns:\n",
    "    if colume[:2]=='01':\n",
    "        df.rename(columns={colume:'Gold'+colume[4:]}, inplace=True)\n",
    "    if colume[:2]=='02':\n",
    "        df.rename(columns={colume:'Silver'+colume[4:]}, inplace=True)\n",
    "    if colume[:2]=='03':\n",
    "        df.rename(columns={colume:'Bronze'+colume[4:]}, inplace=True)\n",
    "    if colume[:1]=='№':\n",
    "        df.rename(columns={colume:'#'+colume[1:]}, inplace=True)\n",
    "\n",
    "names_ids = df.index.str.split('\\s\\(') # bc split the index by '('\n",
    "\n",
    "df.index = names_ids.str[0] \n",
    "df['ID'] = names_ids.str[1].str[:3] \n",
    "\n",
    "df = df.drop('Totals')\n",
    "df.head()\n"
   ]
  },
  {
   "cell_type": "markdown",
   "metadata": {},
   "source": [
    "### Question 0 (Example)\n",
    "\n",
    "What is the first country in df?\n",
    "\n",
    "*This function should return a Series.*"
   ]
  },
  {
   "cell_type": "code",
   "execution_count": 44,
   "metadata": {},
   "outputs": [
    {
     "name": "stdout",
     "output_type": "stream",
     "text": [
      "Answer:\n",
      "# Summer           13\n",
      "Gold                0\n",
      "Silver              0\n",
      "Bronze              2\n",
      "Total               2\n",
      "# Winter            0\n",
      "Gold.1              0\n",
      "Silver.1            0\n",
      "Bronze.1            0\n",
      "Total.1             0\n",
      "# Games            13\n",
      "Gold.2              0\n",
      "Silver.2            0\n",
      "Bronze.2            2\n",
      "Combined total      2\n",
      "ID                AFG\n",
      "difference          0\n",
      "Name: Afghanistan, dtype: object\n"
     ]
    }
   ],
   "source": [
    "def answer_0():\n",
    "        return df.iloc[0] #bc 1st = 0\n",
    "\n",
    "print ('Answer:')\n",
    "print(answer_0())"
   ]
  },
  {
   "cell_type": "markdown",
   "metadata": {},
   "source": [
    "### Question 1\n",
    "Which country has won the most gold medals in summer games?\n",
    "\n",
    "*This function should return a single string value.*"
   ]
  },
  {
   "cell_type": "code",
   "execution_count": 43,
   "metadata": {
    "nbgrader": {
     "grade": false,
     "locked": false,
     "solution": false
    }
   },
   "outputs": [
    {
     "name": "stdout",
     "output_type": "stream",
     "text": [
      "Answer:\n",
      "United States\n"
     ]
    }
   ],
   "source": [
    "def answer_1():\n",
    "    return df[df['Gold'] == max(df['Gold'])].index[0]\n",
    "\n",
    "print ('Answer:')\n",
    "print(answer_1())"
   ]
  },
  {
   "cell_type": "markdown",
   "metadata": {},
   "source": [
    "### Question 2\n",
    "Which country had the biggest difference between their summer and winter gold medal counts?\n",
    "\n",
    "*This function should return a single string value.*"
   ]
  },
  {
   "cell_type": "code",
   "execution_count": 53,
   "metadata": {
    "collapsed": true
   },
   "outputs": [
    {
     "name": "stdout",
     "output_type": "stream",
     "text": [
      "Answer:\n",
      "United States\n"
     ]
    }
   ],
   "source": [
    "def answer_2():\n",
    "    df['difference'] = abs(df['Gold']-df['Gold.1'])\n",
    "    return df[df['difference'] == max(df['difference'])].index[0]\n",
    "print ('Answer:')\n",
    "print(answer_2())\n"
   ]
  },
  {
   "cell_type": "markdown",
   "metadata": {},
   "source": [
    "### Question 3\n",
    "Which country has the biggest difference between their summer gold medal counts and winter gold medal counts relative to their total gold medal count? \n",
    "\n",
    "$$\\frac{Summer~Gold - Winter~Gold}{Total~Gold}$$\n",
    "\n",
    "Only include countries that have won at least 1 gold in both summer and winter.\n",
    "\n",
    "*This function should return a single string value.*"
   ]
  },
  {
   "cell_type": "code",
   "execution_count": 46,
   "metadata": {
    "collapsed": true
   },
   "outputs": [
    {
     "name": "stdout",
     "output_type": "stream",
     "text": [
      "Answer:\n",
      "Bulgaria\n"
     ]
    }
   ],
   "source": [
    "def answer_3():\n",
    "    a = df.copy()\n",
    "    a = a.drop(a[a['Gold'].isin([0])&a['Gold.1'].isin([0])].index)  \n",
    "    a = a[(a['Gold.1'] != 0) & (a['Gold'] != 0)]\n",
    "    #a = a.drop(a[(a['Gold.1'] == 0) & (a['Gold'] == 0)].index) \n",
    "    #a = a.drop(a[(a['Gold'] & a['Gold.1']).isin([0])].index)\n",
    "    #a = a.drop(a[a['Gold.2'] == 0].index) \n",
    "    a['relative'] = abs((a['Gold']-a['Gold.1'])/a['Gold.2'])\n",
    "    return a[a['relative'] == max(a['relative'])].index[0]\n",
    "print ('Answer:')\n",
    "print (answer_3())"
   ]
  },
  {
   "cell_type": "markdown",
   "metadata": {},
   "source": [
    "### Question 4\n",
    "Write a function that creates a Series called \"Points\" which is a weighted value where each gold medal (`Gold.2`) counts for 3 points, silver medals (`Silver.2`) for 2 points, and bronze medals (`Bronze.2`) for 1 point. The function should return only the column (a Series object) which you created.\n",
    "\n",
    "*This function should return a Series named `Points` of length 146*"
   ]
  },
  {
   "cell_type": "code",
   "execution_count": 48,
   "metadata": {
    "collapsed": true
   },
   "outputs": [
    {
     "name": "stdout",
     "output_type": "stream",
     "text": [
      "Answer:\n",
      "Afghanistan                           2\n",
      "Algeria                              27\n",
      "Argentina                           130\n",
      "Armenia                              16\n",
      "Australasia                          22\n",
      "                                   ... \n",
      "Yugoslavia                          171\n",
      "Independent Olympic Participants      4\n",
      "Zambia                                3\n",
      "Zimbabwe                             18\n",
      "Mixed team                           38\n",
      "Length: 146, dtype: int64\n"
     ]
    }
   ],
   "source": [
    "def answer_4():\n",
    "    return pd.Series((df['Gold.2']*3)+(df['Silver.2']*2)+df['Bronze.2'],index=df.index)\n",
    "print ('Answer:')\n",
    "print (answer_4())"
   ]
  },
  {
   "cell_type": "markdown",
   "metadata": {},
   "source": [
    "## Part 2\n",
    "For the next set of questions, we will be using census data from the **United States Census Bureau**. Counties are political and geographic subdivisions of states in the United States. This dataset contains population data for counties and states in the US from 2010 to 2015. [See this document](https://www.dropbox.com/s/a0c2fdkaxokk2ys/CO-EST2015-alldata.pdf?dl=0) for a description of the variable names.\n",
    "\n",
    "The census dataset (census.csv) should be loaded as census_df. Answer questions using this as appropriate.\n",
    "\n",
    "### Question 5\n",
    "Which state has the most counties in it? (hint: consider the sumlevel key carefully! You'll need this for future questions too...)\n",
    "\n",
    "*This function should return a single string value.*\n"
   ]
  },
  {
   "cell_type": "code",
   "execution_count": 49,
   "metadata": {
    "collapsed": true
   },
   "outputs": [
    {
     "name": "stdout",
     "output_type": "stream",
     "text": [
      "Answer:\n",
      "Texas\n"
     ]
    }
   ],
   "source": [
    "import pandas as pd\n",
    "census_df = pd.read_csv('D:/projects_git/DS_KNU/data/census.csv')\n",
    "census_df\n",
    "def answer_5():\n",
    "    state =list(census_df['STNAME'].unique())\n",
    "    counts = dict()\n",
    "    for item in state:\n",
    "        counts[item] = census_df.where(census_df['STNAME'] == item).count()[1]\n",
    "    bigcount = None\n",
    "    bigword = None\n",
    "    for word,count in counts.items():\n",
    "        if bigcount is None or count > bigcount:\n",
    "            bigword = word\n",
    "            bigcount = count\n",
    "    return bigword\n",
    "print ('Answer:')\n",
    "print (answer_5())"
   ]
  },
  {
   "cell_type": "markdown",
   "metadata": {},
   "source": [
    "### Question 6\n",
    "Only looking at the three most populous counties for each state, what are the three most populous states (in order of highest population to lowest population)? Use `CENSUS2010POP`.\n",
    "\n",
    "*This function should return a list of string values.*"
   ]
  },
  {
   "cell_type": "code",
   "execution_count": 50,
   "metadata": {
    "collapsed": true
   },
   "outputs": [
    {
     "name": "stdout",
     "output_type": "stream",
     "text": [
      "Answer:\n",
      "['California', 'Texas', 'Illinois']\n"
     ]
    }
   ],
   "source": [
    "def answer_6():\n",
    "    census_copy_df=census_df.drop(census_df[census_df['COUNTY']==0].index)\n",
    "    state =list(census_copy_df['STNAME'].unique())\n",
    "    counts = dict()\n",
    "    for item in state:\n",
    "        counts[item] = sum(census_copy_df.where(census_copy_df['STNAME'] == item).nlargest(3,'CENSUS2010POP')['CENSUS2010POP'])\n",
    "    return list(pd.Series(counts).nlargest(3).index)\n",
    "print ('Answer:')\n",
    "print (answer_6())"
   ]
  },
  {
   "cell_type": "markdown",
   "metadata": {},
   "source": [
    "### Question 7\n",
    "Which county has had the largest absolute change in population within the period 2010-2015? (Hint: population values are stored in columns POPESTIMATE2010 through POPESTIMATE2015, you need to consider all six columns.)\n",
    "\n",
    "e.g. If County Population in the 5 year period is 100, 120, 80, 105, 100, 130, then its largest change in the period would be |130-80| = 50.\n",
    "\n",
    "*This function should return a single string value.*"
   ]
  },
  {
   "cell_type": "code",
   "execution_count": 51,
   "metadata": {
    "collapsed": true
   },
   "outputs": [
    {
     "name": "stdout",
     "output_type": "stream",
     "text": [
      "Answer:\n",
      "Harris County\n"
     ]
    }
   ],
   "source": [
    "def answer_7():\n",
    "    census_copy=census_df.drop(census_df[census_df['COUNTY']==0].index)\n",
    "    census_copy['max_dif']=census_copy[['POPESTIMATE2010','POPESTIMATE2011','POPESTIMATE2012','POPESTIMATE2013','POPESTIMATE2014','POPESTIMATE2015']].max(axis=1)-census_copy[['POPESTIMATE2010','POPESTIMATE2011','POPESTIMATE2012','POPESTIMATE2013','POPESTIMATE2014','POPESTIMATE2015']].min(axis=1)\n",
    "    return list(census_copy[census_copy['max_dif'] == max(census_copy['max_dif'])]['CTYNAME'])[0]  #.astype(str)\n",
    "print ('Answer:')\n",
    "print (answer_7())"
   ]
  },
  {
   "cell_type": "markdown",
   "metadata": {},
   "source": [
    "### Question 8\n",
    "In this datafile, the United States is broken up into four regions using the \"REGION\" column. \n",
    "\n",
    "Create a query that finds the counties that belong to regions 1 or 2, whose name starts with 'Washington', and whose POPESTIMATE2015 was greater than their POPESTIMATE 2014.\n",
    "\n",
    "*This function should return a 5x2 DataFrame with the columns = ['STNAME', 'CTYNAME'] and the same index ID as the census_df (sorted ascending by index).*"
   ]
  },
  {
   "cell_type": "code",
   "execution_count": 52,
   "metadata": {},
   "outputs": [
    {
     "name": "stdout",
     "output_type": "stream",
     "text": [
      "Answer:\n",
      "            STNAME            CTYNAME\n",
      "896           Iowa  Washington County\n",
      "1419     Minnesota  Washington County\n",
      "2345  Pennsylvania  Washington County\n",
      "2355  Rhode Island  Washington County\n",
      "3163     Wisconsin  Washington County\n"
     ]
    }
   ],
   "source": [
    "def answer_8():\n",
    "    region = census_df.where((census_df['REGION'] == 1) | (census_df['REGION'] == 2)).dropna()\n",
    "    region = region[region['CTYNAME'].str.startswith('Washington')]\n",
    "    region= region[region['POPESTIMATE2015'] > region['POPESTIMATE2014']]\n",
    "    return region[['STNAME', 'CTYNAME']]\n",
    "print ('Answer:')\n",
    "print (answer_8())"
   ]
  }
 ],
 "metadata": {
  "anaconda-cloud": {},
  "coursera": {
   "course_slug": "python-data-analysis",
   "graded_item_id": "tHmgx",
   "launcher_item_id": "Um6Bz",
   "part_id": "OQsnr"
  },
  "interpreter": {
   "hash": "f512de18de48ca65484e70e2951aae86fc45294903647ca7aefe5f0f58f5dbc2"
  },
  "kernelspec": {
   "display_name": "Python 3.9.7 ('base')",
   "language": "python",
   "name": "python3"
  },
  "language_info": {
   "codemirror_mode": {
    "name": "ipython",
    "version": 3
   },
   "file_extension": ".py",
   "mimetype": "text/x-python",
   "name": "python",
   "nbconvert_exporter": "python",
   "pygments_lexer": "ipython3",
   "version": "3.9.7"
  }
 },
 "nbformat": 4,
 "nbformat_minor": 1
}
