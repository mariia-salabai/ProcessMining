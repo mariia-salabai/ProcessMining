{
 "cells": [
  {
   "cell_type": "markdown",
   "metadata": {},
   "source": [
    "---\n",
    "\n",
    "_This notebook is based on materials from Coursera course [Introduction to data science with python](https://www.coursera.org/learn/python-data-analysis/)._\n",
    "\n",
    "---"
   ]
  },
  {
   "cell_type": "markdown",
   "metadata": {},
   "source": [
    "# Lab 4 - Open Task\n",
    "\n",
    "### In this assignment you have to:\n",
    "\n",
    "Choose a data set for you own. It is better to choose a data set related to Ukraine. (source example: data.gov.ua, data.kyivcity.gov.ua, kaggle.com).\n",
    "Create a new jupyter notebook file.\n",
    "In the begging of the file give a short description of the data set and variables in it. It is necessary to provide a link to the sourse of the data set.\n",
    "Read the data set. If need you should clean and transform data set.\n",
    "Ask at least 5 question to the data set. Example of questions you could find in Lab 1 - Lab 3. Give answers to the questions.\n",
    "Upload to your repository on github .ipynb file and the data set (if possible)."
   ]
  },
  {
   "cell_type": "markdown",
   "metadata": {},
   "source": [
    "The following code loads the baseball dataset (baseball.csv), which was derrived from the Internet\n",
    "\n",
    "The columns are organized as # of Name, Team, Position, Height, Age, PosCategory. Use this dataset to answer the questions below."
   ]
  },
  {
   "cell_type": "code",
   "execution_count": 53,
   "metadata": {
    "nbgrader": {
     "grade": false,
     "grade_id": "1",
     "locked": false,
     "solution": false
    }
   },
   "outputs": [
    {
     "name": "stdout",
     "output_type": "stream",
     "text": [
      "                 Name Team        Position  Height  Weight    Age PosCategory\n",
      "0       Adam_Donachie  BAL         Catcher      74     180  22.99     Catcher\n",
      "1           Paul_Bako  BAL         Catcher      74     215  34.69     Catcher\n",
      "2     Ramon_Hernandez  BAL         Catcher      72     210  30.78     Catcher\n",
      "3        Kevin_Millar  BAL   First_Baseman      72     210  35.43   Infielder\n",
      "4         Chris_Gomez  BAL   First_Baseman      73     188  35.71   Infielder\n",
      "...               ...  ...             ...     ...     ...    ...         ...\n",
      "1010    Brad_Thompson  STL  Relief_Pitcher      73     190  25.08     Pitcher\n",
      "1011    Tyler_Johnson  STL  Relief_Pitcher      74     180  25.73     Pitcher\n",
      "1012   Chris_Narveson  STL  Relief_Pitcher      75     205  25.19     Pitcher\n",
      "1013    Randy_Keisler  STL  Relief_Pitcher      75     190  31.01     Pitcher\n",
      "1014      Josh_Kinney  STL  Relief_Pitcher      73     195  27.92     Pitcher\n",
      "\n",
      "[1015 rows x 7 columns]\n"
     ]
    }
   ],
   "source": [
    "import pandas as pd\n",
    "\n",
    "dataset = pd.read_csv('D:/projects_git/courses-introduction-to-python/datasets/baseball.csv')\n",
    "print (dataset)"
   ]
  },
  {
   "cell_type": "markdown",
   "metadata": {},
   "source": [
    "### Question 1\n",
    "\n",
    "Display the description of the first player in the dataset\n"
   ]
  },
  {
   "cell_type": "code",
   "execution_count": 65,
   "metadata": {},
   "outputs": [
    {
     "name": "stdout",
     "output_type": "stream",
     "text": [
      "The first player in the dataset:\n",
      "Name           Adam_Donachie\n",
      "Team                     BAL\n",
      "Position             Catcher\n",
      "Height                    74\n",
      "Weight                   180\n",
      "Age                    22.99\n",
      "PosCategory          Catcher\n",
      "Name: 0, dtype: object\n"
     ]
    }
   ],
   "source": [
    "def answer_1():\n",
    "        return dataset.iloc[0]\n",
    "\n",
    "print ('The first player in the dataset:')\n",
    "print(answer_1())"
   ]
  },
  {
   "cell_type": "markdown",
   "metadata": {},
   "source": [
    "### Question 2\n",
    "\n",
    "Calculate the average height of all baseball players"
   ]
  },
  {
   "cell_type": "code",
   "execution_count": 66,
   "metadata": {},
   "outputs": [
    {
     "name": "stdout",
     "output_type": "stream",
     "text": [
      "the average height of all baseball players:\n"
     ]
    },
    {
     "data": {
      "text/plain": [
       "201.34876847290641"
      ]
     },
     "execution_count": 66,
     "metadata": {},
     "output_type": "execute_result"
    }
   ],
   "source": [
    "def answer_2():\n",
    "    return dataset['Weight'].mean()\n",
    "print ('The average height of all baseball players:')\n",
    "answer_2()\n"
   ]
  },
  {
   "cell_type": "markdown",
   "metadata": {},
   "source": [
    "### Question 3\n",
    "\n",
    "Print information about the number of players in each team"
   ]
  },
  {
   "cell_type": "code",
   "execution_count": 67,
   "metadata": {},
   "outputs": [
    {
     "name": "stdout",
     "output_type": "stream",
     "text": [
      "Number of players in each team:\n"
     ]
    },
    {
     "data": {
      "text/plain": [
       "NYM    38\n",
       "ATL    37\n",
       "CHC    36\n",
       "OAK    36\n",
       "DET    36\n",
       "WAS    36\n",
       "CIN    35\n",
       "ANA    35\n",
       "BOS    35\n",
       "PIT    35\n",
       "MLW    35\n",
       "PHI    35\n",
       "SF     34\n",
       "HOU    34\n",
       "COL    34\n",
       "BAL    34\n",
       "TEX    34\n",
       "KC     34\n",
       "SEA    34\n",
       "CLE    34\n",
       "LA     33\n",
       "FLA    32\n",
       "TOR    32\n",
       "TB     32\n",
       "SD     32\n",
       "STL    32\n",
       "CWS    31\n",
       "MIN    31\n",
       "NYY    31\n",
       "ARZ    28\n",
       "Name: Team, dtype: int64"
      ]
     },
     "execution_count": 67,
     "metadata": {},
     "output_type": "execute_result"
    }
   ],
   "source": [
    "def answer_3():\n",
    "    return dataset['Team'].value_counts()\n",
    "print ('Number of players in each team:')\n",
    "answer_3()\n"
   ]
  },
  {
   "cell_type": "markdown",
   "metadata": {},
   "source": [
    "### Question 4\n",
    "\n",
    "Print information about the number of players in each position on The New York Mets (NYM team)"
   ]
  },
  {
   "cell_type": "code",
   "execution_count": 68,
   "metadata": {},
   "outputs": [
    {
     "name": "stdout",
     "output_type": "stream",
     "text": [
      "Number of players in each position:\n"
     ]
    },
    {
     "data": {
      "text/plain": [
       "Pitcher       22\n",
       "Infielder      7\n",
       "Outfielder     7\n",
       "Catcher        2\n",
       "Name: PosCategory, dtype: int64"
      ]
     },
     "execution_count": 68,
     "metadata": {},
     "output_type": "execute_result"
    }
   ],
   "source": [
    "def answer_4():\n",
    "    return dataset.loc[dataset['Team']=='NYM','PosCategory'].value_counts() \n",
    "print ('Number of players in each position:')\n",
    "answer_4()"
   ]
  },
  {
   "cell_type": "markdown",
   "metadata": {},
   "source": [
    "### Question 5\n",
    "\n",
    "Print information about the tallest baseball player"
   ]
  },
  {
   "cell_type": "code",
   "execution_count": 70,
   "metadata": {
    "nbgrader": {
     "grade": false,
     "locked": false,
     "solution": false
    }
   },
   "outputs": [
    {
     "name": "stdout",
     "output_type": "stream",
     "text": [
      "Information about the highest baseball player:\n",
      "              Name Team          Position  Height  Weight    Age PosCategory\n",
      "154  C.C._Sabathia  CLE  Starting_Pitcher      79     290  26.61     Pitcher\n"
     ]
    }
   ],
   "source": [
    "def answer_5():\n",
    "    return dataset[dataset['Weight'] == max(dataset['Weight'])] #вывести игрока с наибольшим ростом\n",
    "\n",
    "print ('Information about the highest baseball player:')\n",
    "print(answer_5())"
   ]
  },
  {
   "cell_type": "markdown",
   "metadata": {},
   "source": [
    "### Question 6\n",
    "Which player has the highest BMI? The formula for calculating the index is written below:\n",
    "\n",
    "$$\\frac{Height}{Weight^2}$$\n",
    "\n",
    "Print information about players with a highest BMI"
   ]
  },
  {
   "cell_type": "code",
   "execution_count": 80,
   "metadata": {
    "collapsed": true
   },
   "outputs": [
    {
     "name": "stdout",
     "output_type": "stream",
     "text": [
      "Players with the highest BMI:\n",
      "                Name Team          Position  Height  Weight    Age  \\\n",
      "279  Oswaldo_Navarro  SEA         Shortstop      72     150  22.41   \n",
      "357     Odalis_Perez   KC  Starting_Pitcher      72     150  29.73   \n",
      "\n",
      "    PosCategory   BMI  \n",
      "279   Infielder  32.0  \n",
      "357     Pitcher  32.0  \n"
     ]
    }
   ],
   "source": [
    "def answer_6():\n",
    "    dataset['BMI'] = abs(dataset['Height']/((dataset['Weight']/100)*(dataset['Weight']/100)))\n",
    "    return dataset[dataset['BMI'] == max(dataset['BMI'])]\n",
    "print ('Players with the highest BMI:')\n",
    "print (answer_6())"
   ]
  }
 ],
 "metadata": {
  "anaconda-cloud": {},
  "coursera": {
   "course_slug": "python-data-analysis",
   "graded_item_id": "tHmgx",
   "launcher_item_id": "Um6Bz",
   "part_id": "OQsnr"
  },
  "interpreter": {
   "hash": "f512de18de48ca65484e70e2951aae86fc45294903647ca7aefe5f0f58f5dbc2"
  },
  "kernelspec": {
   "display_name": "Python 3.9.7 ('base')",
   "language": "python",
   "name": "python3"
  },
  "language_info": {
   "codemirror_mode": {
    "name": "ipython",
    "version": 3
   },
   "file_extension": ".py",
   "mimetype": "text/x-python",
   "name": "python",
   "nbconvert_exporter": "python",
   "pygments_lexer": "ipython3",
   "version": "3.9.7"
  }
 },
 "nbformat": 4,
 "nbformat_minor": 1
}
